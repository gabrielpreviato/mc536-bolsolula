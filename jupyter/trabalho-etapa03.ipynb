{
 "cells": [
  {
   "cell_type": "markdown",
   "metadata": {},
   "source": [
    "# Modelo Conceitual.\n",
    "\n",
    "<img src=\"conceitual.jpeg\">"
   ]
  },
  {
   "cell_type": "code",
   "execution_count": 2,
   "metadata": {},
   "outputs": [
    {
     "ename": "java.lang.RuntimeException",
     "evalue": " No datasource",
     "output_type": "error",
     "text": "java.lang.RuntimeException: No datasource",
     "traceback": [
      "\u001b[1;31mjava.lang.RuntimeException: No datasource\u001b[0;0m"
     ]
    }
   ],
   "source": [
    "LOAD CSV WITH HEADERS FROM \n",
    "'https://raw.githubusercontent.com/gabrielpreviato/mc536-bolsolula/master/jupyter/cleveland_id_norm.csv' AS line\n",
    "FIELDTERMINATOR ','\n",
    "CREATE (p:Pessoa {uid: line.uid, idade: toFloat(line.idade), genero: toFloat(line.genero)})\n",
    "\n",
    "LOAD CSV WITH HEADERS FROM \n",
    "'https://raw.githubusercontent.com/gabrielpreviato/mc536-bolsolula/master/jupyter/cleveland_id_norm.csv' AS line\n",
    "FIELDTERMINATOR ','\n",
    "CREATE (c:Cintilografia {uid: line.uid, thal: toFloat(line.thal)})\n",
    "\n",
    "LOAD CSV WITH HEADERS FROM \n",
    "'https://raw.githubusercontent.com/gabrielpreviato/mc536-bolsolula/master/jupyter/cleveland_id_norm.csv' AS line\n",
    "FIELDTERMINATOR ','\n",
    "MATCH(p:Pessoa {uid: line.uid})\n",
    "MATCH(c:Cintilografia {uid: line.uid})\n",
    "CREATE (p)-[:Faz]->(c)\n",
    "\n",
    "LOAD CSV WITH HEADERS FROM \n",
    "'https://raw.githubusercontent.com/gabrielpreviato/mc536-bolsolula/master/jupyter/cleveland_id_norm.csv' AS line\n",
    "FIELDTERMINATOR ','\n",
    "CREATE (s:Sintomas {uid: line.uid, tipo_dor_toracica: toFloat(line.tipo_dor_toracica)})                                                           \n",
    "                                                              \n",
    "LOAD CSV WITH HEADERS FROM \n",
    "'https://raw.githubusercontent.com/gabrielpreviato/mc536-bolsolula/master/jupyter/cleveland_id_norm.csv' AS line\n",
    "FIELDTERMINATOR ','\n",
    "MATCH(p:Pessoa {uid: line.uid})\n",
    "MATCH(s:Sintomas {uid: line.uid})\n",
    "CREATE (p)-[:Tem]->(s)   \n",
    "\n",
    "LOAD CSV WITH HEADERS FROM \n",
    "'https://raw.githubusercontent.com/gabrielpreviato/mc536-bolsolula/master/jupyter/cleveland_id_norm.csv' AS line\n",
    "FIELDTERMINATOR ','\n",
    "CREATE (e:ECG {uid: line.uid, resultado: toFloat(line.resultado), batimento_max: toFloat(line.batimento_max), induziu_angina: toFloat(line.induziu_angina), depressao_st: toFloat(line.depressao_st), declive_st: toFloat(line.declive_st)})\n",
    "\n",
    "LOAD CSV WITH HEADERS FROM \n",
    "'https://raw.githubusercontent.com/gabrielpreviato/mc536-bolsolula/master/jupyter/cleveland_id_norm.csv' AS line\n",
    "FIELDTERMINATOR ','\n",
    "MATCH(p:Pessoa {uid: line.uid})\n",
    "MATCH(e:ECG {uid: line.uid})\n",
    "CREATE (p)-[:Faz]->(e)\n",
    "\n",
    "LOAD CSV WITH HEADERS FROM \n",
    "'https://raw.githubusercontent.com/gabrielpreviato/mc536-bolsolula/master/jupyter/cleveland_id_norm.csv' AS line\n",
    "FIELDTERMINATOR ','\n",
    "CREATE (t:Triagem {uid: line.uid, pressao_repouso: toFloat(line.pressao_repouso), colesterol: toFloat(line.colesterol), glicose: toFloat(line.glicose)})\n",
    "\n",
    "LOAD CSV WITH HEADERS FROM \n",
    "'https://raw.githubusercontent.com/gabrielpreviato/mc536-bolsolula/master/jupyter/cleveland_id_norm.csv' AS line\n",
    "FIELDTERMINATOR ','\n",
    "MATCH(p:Pessoa {uid: line.uid})\n",
    "MATCH(t:Triagem {uid: line.uid})\n",
    "CREATE (p)-[:Faz]->(t)\n",
    "\n",
    "LOAD CSV WITH HEADERS FROM \n",
    "'https://raw.githubusercontent.com/gabrielpreviato/mc536-bolsolula/master/jupyter/cleveland_id_norm.csv' AS line\n",
    "FIELDTERMINATOR ','\n",
    "CREATE (f:Fluoroscopia {uid: line.uid, numero_vasos: toFloat(line.numero_vasos)})\n",
    "\n",
    "LOAD CSV WITH HEADERS FROM \n",
    "'https://raw.githubusercontent.com/gabrielpreviato/mc536-bolsolula/master/jupyter/cleveland_id_norm.csv' AS line\n",
    "FIELDTERMINATOR ','\n",
    "MATCH(p:Pessoa {uid: line.uid})\n",
    "MATCH(f:Fluoroscopia {uid: line.uid})\n",
    "CREATE (p)-[:Faz]->(f)                                                                                               \n",
    "                                                                                               \n",
    "LOAD CSV WITH HEADERS FROM \n",
    "'https://raw.githubusercontent.com/gabrielpreviato/mc536-bolsolula/master/jupyter/cleveland_id_norm.csv' AS line\n",
    "FIELDTERMINATOR ','\n",
    "CREATE (d:Diagnostico {uid: line.uid, diagnostico: toInteger(line.diagnostico)})\n",
    "\n",
    "LOAD CSV WITH HEADERS FROM \n",
    "'https://raw.githubusercontent.com/gabrielpreviato/mc536-bolsolula/master/jupyter/cleveland_id_norm.csv' AS line\n",
    "FIELDTERMINATOR ','\n",
    "MATCH(p:Pessoa {uid: line.uid})\n",
    "MATCH(d:Diagnostico {uid: line.uid})\n",
    "CREATE (p)-[:Diag]->(d)"
   ]
  },
  {
   "cell_type": "code",
   "execution_count": null,
   "metadata": {},
   "outputs": [],
   "source": [
    "MATCH (p:Pessoa)-[t:Tem]->(s:Sintomas {tipo_dor_toracica: 4}) \n",
    "MATCH (p:Pessoa)-[f:Faz]->(tr:Triagem {glicose : 1})\n",
    "RETURN p, s, tr"
   ]
  },
  {
   "cell_type": "code",
   "execution_count": null,
   "metadata": {},
   "outputs": [],
   "source": [
    "MATCH (p:Pessoa)-[t:Tem]->(s:Sintomas {tipo_dor_toracica: 4})\n",
    "MATCH (p:Pessoa)-[f:Faz]->(tr:Triagem {glicose : 1})\n",
    "MATCH (p:Pessoa)-[:Diag]->(d:Diagnostico {diagnostico : 1})\n",
    "RETURN p, s, tr, d"
   ]
  },
  {
   "cell_type": "code",
   "execution_count": null,
   "metadata": {},
   "outputs": [],
   "source": [
    "MATCH (p:Pessoa)-[]->(f:Fluoroscopia)\n",
    "WHERE f.numero_vasos >= 2\n",
    "RETURN p, f"
   ]
  },
  {
   "cell_type": "code",
   "execution_count": null,
   "metadata": {},
   "outputs": [],
   "source": [
    "MATCH (p:Pessoa)-[]->(f:Fluoroscopia)\n",
    "WHERE f.numero_vasos >= 2\n",
    "MATCH (p:Pessoa)-[:Diag]->(d:Diagnostico {diagnostico : 1})\n",
    "RETURN p, f, d"
   ]
  }
 ],
 "metadata": {
  "kernelspec": {
   "display_name": "SQL",
   "language": "SQL",
   "name": "sql"
  },
  "language_info": {
   "codemirror_mode": "sql",
   "file_extension": ".sql",
   "mimetype": "",
   "name": "SQL",
   "nbconverter_exporter": "",
   "version": ""
  }
 },
 "nbformat": 4,
 "nbformat_minor": 2
}
