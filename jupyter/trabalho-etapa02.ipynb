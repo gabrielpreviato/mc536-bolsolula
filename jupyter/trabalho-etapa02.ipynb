{
 "cells": [
  {
   "cell_type": "code",
   "execution_count": 1,
   "metadata": {},
   "outputs": [],
   "source": [
    "%defaultDatasource jdbc:h2:mem:db"
   ]
  },
  {
   "cell_type": "markdown",
   "metadata": {},
   "source": [
    "# Modelo Conceitual.\n",
    "**Adicionar Imagem**\n",
    "\n",
    "\n",
    "\n"
   ]
  },
  {
   "cell_type": "markdown",
   "metadata": {},
   "source": [
    "# Modelo Lógico.\n",
    "**Adicionar Imagem**\n",
    "\n",
    "\n",
    "\n",
    "Paciente(_id_, idade, sexo, eh_fumante [B], hist_diabetes[B], hist_doenca_arterial[B])\n",
    "Primary Key: id\n",
    "\n",
    "Sintoma(_id_paciente_, local_dor[str], provocada_por_esforço[B], melhorou_com_descanso[B], tipo_dor_toracica[str])\n",
    "Primary Key: id_paciente\n",
    "Foreigner Key: id_paciente\n",
    "\n",
    "ECG(_id_paciente_, resultado, protocolo_exercicio, duracao_exercicio, batimento_max, pico_pressao)\n",
    "Primary Key: id_paciente\n",
    "Foreigner Key: id_paciente\n",
    "\n",
    "Triagem(_id_paciente_, pressao_repouso, colesterol, glicose)\n",
    "Primary Key: id_paciente\n",
    "Foreigner Key: id_paciente\n",
    "\n",
    "Diagnostico(_id_paciente_, status_angiografico, vaso_atingido)\n",
    "Primary Key: id_paciente\n",
    "Foreigner Key: id_paciente"
   ]
  },
  {
   "cell_type": "code",
   "execution_count": 3,
   "metadata": {},
   "outputs": [],
   "source": [
    "#Task List:\n",
    "\n",
    "\n",
    "#Paciente(_id_, idade, sexo, eh_fumante [B], hist_diabetes[B], hist_doenca_arterial[B])\n",
    "#Primary Key: id\n",
    "\n",
    "\n",
    "DROP TABLE IF EXISTS Paciente;\n",
    "DROP TABLE IF EXISTS Sintomas;\n",
    "DROP TABLE IF EXISTS ECG;\n",
    "DROP TABLE IF EXISTS Triagem;\n",
    "DROP TABLE IF EXISTS Diagnostico;\n",
    "\n",
    "CREATE TABLE Paciente (\n",
    "id INTEGER,\n",
    "idade INTEGER,\n",
    "genero INTEGER,\n",
    "fumante INTEGER,\n",
    "hist_Diab INTEGER,\n",
    "hist_doenca_arterial INTEGER   \n",
    "    PRIMARY KEY(Id)\n",
    ") AS SELECT\n",
    "    Id,\n",
    "    Genero,\n",
    "    Idade,\n",
    "    fumante,\n",
    "    hist_diab,\n",
    "    hist_doenca_arterial\n",
    "FROM CSVREAD('');\n",
    "\n",
    "\n",
    "#Sintoma(_id_paciente_, local_dor[str], provocada_por_esforço[B], melhorou_com_descanso[B], tipo_dor_toracica[str])\n",
    "#Primary Key: id_paciente\n",
    "#Foreigner Key: id_paciente\n",
    "\n",
    "CREATE TABLE sintoma (\n",
    "id_paciente INTEGER,\n",
    "local_dor VARCHAR(100),\n",
    "provocada_por_esforço INTEGER,   \n",
    "melhorou_com_descanso VARCHAR(100),\n",
    "tipo_dor_toracica VARCHAR(100),  \n",
    "PRIMARY KEY(id_paciente),\n",
    "FOREIGN KEY(id_paciente),\n",
    "    REFERENCES pessoa(id)\n",
    "      ON DELETE NO ACTION\n",
    "      ON UPDATE NO ACTION    \n",
    ") AS SELECT\n",
    "    id_paciente,\n",
    "    local_dor,\n",
    "    provocado_por_esforço,\n",
    "    melhorou_com_descanso,\n",
    "    tipo_dor_toracica,\n",
    "FROM CSVREAD('');\n",
    "\n",
    "\n",
    "#ECG(_id_paciente_, resultado, protocolo_exercicio, duracao_exercicio, batimento_max, pico_pressao)\n",
    "#Primary Key: id_paciente\n",
    "#Foreigner Key: id_paciente\n",
    "    \n",
    "CREATE TABLE ECG (\n",
    "Id_aciente INTEGER NOT NULL,\n",
    "resultado INTEGER NOT NULL,\n",
    "protocolo_exercicio INTEGER,   \n",
    "duracao_exercicio INTEGER,\n",
    "batimento_max INTEGER,\n",
    "pico_pressao INTEGER\n",
    "PRIMARY KEY(id_paciente)\n",
    "FOREIGN KEY(id_paciente)\n",
    "    REFERENCES pessoa(id)\n",
    "      ON DELETE NO ACTION\n",
    "      ON UPDATE NO ACTION  \n",
    "\n",
    ") AS SELECT\n",
    "    Id_paciente,\n",
    "    resultado,\n",
    "    protocolo_exercicio,\n",
    "    duracao_exercicio,\n",
    "    batimento_max,\n",
    "    pico_pressao\n",
    "FROM CSVREAD('');\n",
    "\n",
    "\n",
    "#Triagem(_id_paciente_, pressao_repouso, colesterol, glicose)\n",
    "#Primary Key: id_paciente\n",
    "#Foreigner Key: id_paciente\n",
    "\n",
    "\n",
    "CREATE TABLE ECG (\n",
    "id_paciente INTEGER,\n",
    "pressao_repouso INTEGER,\n",
    "colesterol INTEGER,\n",
    "glicose INTEGER\n",
    "    \n",
    "PRIMARY KEY(id_paciente)\n",
    "FOREIGN KEY(id_paciente)\n",
    "REFERENCES pessoa(id)\n",
    "      ON DELETE NO ACTION\n",
    "      ON UPDATE NO ACTION  \n",
    "\n",
    ") AS SELECT\n",
    "    Id_Paciente\n",
    "    pressao_repouso\n",
    "    colesterol\n",
    "    glicose\n",
    "    \n",
    "FROM CSVREAD('');\n",
    "\n",
    "#Diagnostico(_id_paciente_, status_angiografico, vaso_atingido)\n",
    "#Primary Key: id_paciente\n",
    "#Foreigner Key: id_paciente\n",
    "\n",
    "\n",
    "CREATE TABLE Diagnostico (\n",
    "id_paciente INTEGER,\n",
    "status_angiografico INTEGER,\n",
    "vaso_atingido INTEGER\n",
    "PRIMARY KEY(id_paciente)\n",
    "FOREIGN KEY(id_paciente)\n",
    "REFERENCES pessoa(id)\n",
    "      ON DELETE NO ACTION\n",
    "      ON UPDATE NO ACTION  \n",
    "\n",
    ") AS SELECT\n",
    "    Id_Paciente,\n",
    "    status_angiografico,\n",
    "    vaso_atingido\n",
    "    \n",
    "FROM CSVREAD('');\n"
   ]
  },
  {
   "cell_type": "code",
   "execution_count": 4,
   "metadata": {},
   "outputs": [
    {
     "data": {
      "application/vnd.jupyter.widget-view+json": {
       "model_id": "9b56eabc-f0be-4108-8027-218389e0ddc3",
       "version_major": 2,
       "version_minor": 0
      },
      "method": "display_data"
     },
     "metadata": {},
     "output_type": "display_data"
    }
   ],
   "source": [
    "SELECT * FROM Paciente;"
   ]
  },
  {
   "cell_type": "code",
   "execution_count": 5,
   "metadata": {},
   "outputs": [
    {
     "data": {
      "application/vnd.jupyter.widget-view+json": {
       "model_id": "563e08c0-2b79-46fc-9de1-4c321d052a73",
       "version_major": 2,
       "version_minor": 0
      },
      "method": "display_data"
     },
     "metadata": {},
     "output_type": "display_data"
    }
   ],
   "source": [
    "SELECT * FROM Sintoma;"
   ]
  },
  {
   "cell_type": "code",
   "execution_count": 6,
   "metadata": {},
   "outputs": [
    {
     "data": {
      "application/vnd.jupyter.widget-view+json": {
       "model_id": "99e52a47-62bf-46f3-a76a-44164f7263b6",
       "version_major": 2,
       "version_minor": 0
      },
      "method": "display_data"
     },
     "metadata": {},
     "output_type": "display_data"
    }
   ],
   "source": [
    "SELECT * FROM ECG;"
   ]
  }
 ],
 "metadata": {
  "kernelspec": {
   "display_name": "Python 3",
   "language": "python",
   "name": "python3"
  },
  "language_info": {
   "codemirror_mode": {
    "name": "ipython",
    "version": 3
   },
   "file_extension": ".py",
   "mimetype": "text/x-python",
   "name": "python",
   "nbconvert_exporter": "python",
   "pygments_lexer": "ipython3",
   "version": "3.6.6"
  }
 },
 "nbformat": 4,
 "nbformat_minor": 2
}
