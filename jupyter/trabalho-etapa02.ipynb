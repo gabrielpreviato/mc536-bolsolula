{
 "cells": [
  {
   "cell_type": "code",
   "execution_count": 1,
   "metadata": {},
   "outputs": [],
   "source": [
    "%defaultDatasource jdbc:h2:mem:db4"
   ]
  },
  {
   "cell_type": "markdown",
   "metadata": {},
   "source": [
    "# Modelo Conceitual.\n",
    "\n",
    "<img src=\"conceitual.jpeg\">\n"
   ]
  },
  {
   "cell_type": "markdown",
   "metadata": {},
   "source": [
    "# Modelo Lógico.\n",
    "**Adicionar Imagem**\n",
    "\n",
    "\n",
    "\n",
    "Paciente(_id_, idade, sexo, eh_fumante [B], hist_diabetes[B], hist_doenca_arterial[B])\n",
    "Primary Key: id\n",
    "\n",
    "Sintoma(_id_paciente_, local_dor[str], provocada_por_esforço[B], melhorou_com_descanso[B], tipo_dor_toracica[str])\n",
    "Primary Key: id_paciente\n",
    "Foreigner Key: id_paciente\n",
    "\n",
    "ECG(_id_paciente_, resultado, protocolo_exercicio, duracao_exercicio, batimento_max, pico_pressao)\n",
    "Primary Key: id_paciente\n",
    "Foreigner Key: id_paciente\n",
    "\n",
    "Triagem(_id_paciente_, pressao_repouso, colesterol, glicose)\n",
    "Primary Key: id_paciente\n",
    "Foreigner Key: id_paciente\n",
    "\n",
    "Diagnostico(_id_paciente_, status_angiografico, vaso_atingido)\n",
    "Primary Key: id_paciente\n",
    "Foreigner Key: id_paciente"
   ]
  },
  {
   "cell_type": "code",
   "execution_count": 2,
   "metadata": {},
   "outputs": [],
   "source": [
    "--Task List:\n",
    "\n",
    "\n",
    "--Paciente(_id_, idade, sexo, eh_fumante [B], hist_diabetes[B], hist_doenca_arterial[B])\n",
    "--Primary Key: id\n",
    "\n",
    "\n",
    "DROP TABLE IF EXISTS Paciente;\n",
    "DROP TABLE IF EXISTS Sintoma;\n",
    "DROP TABLE IF EXISTS ECG;\n",
    "DROP TABLE IF EXISTS Triagem;\n",
    "DROP TABLE IF EXISTS Diagnostico;\n",
    "\n",
    "CREATE TABLE Paciente (\n",
    "id VARCHAR(36),\n",
    "idade FLOAT,\n",
    "genero FLOAT, \n",
    "PRIMARY KEY(id)\n",
    ") AS SELECT\n",
    "    uid,\n",
    "    idade,\n",
    "    genero\n",
    "FROM CSVREAD('cleveland_id.csv');\n",
    "\n",
    "\n",
    "--Sintoma(_id_paciente_, local_dor[str], provocada_por_esforço[B], melhorou_com_descanso[B], tipo_dor_toracica[str])\n",
    "--Primary Key: id_paciente\n",
    "--Foreigner Key: id_paciente\n",
    "\n",
    "CREATE TABLE Sintoma (\n",
    "id_paciente VARCHAR(36),\n",
    "tipo_dor_toracica FLOAT,\n",
    "-- local_dor VARCHAR(100),\n",
    "-- provocada_por_esforço INTEGER,   \n",
    "-- melhorou_com_descanso VARCHAR(100),\n",
    "-- tipo_dor_toracica VARCHAR(100),  \n",
    "PRIMARY KEY(id_paciente),\n",
    "FOREIGN KEY(id_paciente)\n",
    "    REFERENCES Paciente(id)\n",
    "      ON DELETE NO ACTION\n",
    "      ON UPDATE NO ACTION    \n",
    ") AS SELECT\n",
    "    uid,\n",
    "    tipo_dor_toracica\n",
    "FROM CSVREAD('cleveland_id.csv');\n",
    "\n",
    "\n",
    "--ECG(_id_paciente_, resultado, protocolo_exercicio, duracao_exercicio, batimento_max, pico_pressao)\n",
    "--Primary Key: id_paciente\n",
    "--Foreigner Key: id_paciente\n",
    "    \n",
    "CREATE TABLE ECG (\n",
    "id_paciente VARCHAR(36),\n",
    "resultado FLOAT,\n",
    "batimento_max FLOAT,\n",
    "induziu_angina FLOAT,\n",
    "depressao_st FLOAT,\n",
    "declive_st FLOAT,\n",
    "numero_vasos FLOAT,\n",
    "thal FLOAT,\n",
    "PRIMARY KEY(id_paciente),\n",
    "FOREIGN KEY(id_paciente)\n",
    "    REFERENCES Paciente(id)\n",
    "      ON DELETE NO ACTION\n",
    "      ON UPDATE NO ACTION  \n",
    "\n",
    ") AS SELECT\n",
    "    uid,\n",
    "    resultado,\n",
    "    batimento_max,\n",
    "    induziu_angina,\n",
    "    depressao_st,\n",
    "    declive_st,\n",
    "    numero_vasos,\n",
    "    thal\n",
    "FROM CSVREAD('cleveland_id.csv');\n",
    "\n",
    "\n",
    "--Triagem(_id_paciente_, pressao_repouso, colesterol, glicose)\n",
    "--Primary Key: id_paciente\n",
    "--Foreigner Key: id_paciente\n",
    "\n",
    "\n",
    "CREATE TABLE Triagem (\n",
    "id_paciente VARCHAR(36),\n",
    "pressao_repouso FLOAT,\n",
    "colesterol FLOAT,\n",
    "glicose FLOAT,\n",
    "PRIMARY KEY(id_paciente),\n",
    "FOREIGN KEY(id_paciente)\n",
    "REFERENCES Paciente(id)\n",
    "      ON DELETE NO ACTION\n",
    "      ON UPDATE NO ACTION  \n",
    "\n",
    ") AS SELECT\n",
    "    uid,\n",
    "    pressao_repouso,\n",
    "    colesterol,\n",
    "    glicose\n",
    "FROM CSVREAD('cleveland_id.csv');\n",
    "\n",
    "--Diagnostico(_id_paciente_, status_angiografico, vaso_atingido)\n",
    "--Primary Key: id_paciente\n",
    "--Foreigner Key: id_paciente\n",
    "\n",
    "\n",
    "CREATE TABLE Diagnostico (\n",
    "id_paciente VARCHAR(36),\n",
    "diagnostico FLOAT,\n",
    "PRIMARY KEY(id_paciente),\n",
    "FOREIGN KEY(id_paciente)\n",
    "REFERENCES Paciente(id)\n",
    "      ON DELETE NO ACTION\n",
    "      ON UPDATE NO ACTION  \n",
    "\n",
    ") AS SELECT\n",
    "    uid,\n",
    "    diagnostico\n",
    "FROM CSVREAD('cleveland_id.csv');\n"
   ]
  },
  {
   "cell_type": "markdown",
   "metadata": {},
   "source": [
    " - Queries descritivas sobre as principais tabelas.\n",
    "     \n",
    "     \n",
    "    \n",
    "  Tais queries tem como objetivo melhorar a compreensão dos dados por um possível usuário leigo.\n",
    "  "
   ]
  },
  {
   "cell_type": "code",
   "execution_count": 3,
   "metadata": {},
   "outputs": [
    {
     "data": {
      "application/vnd.jupyter.widget-view+json": {
       "model_id": "749520bd-0deb-4c24-b05f-ac323c0a4ae0",
       "version_major": 2,
       "version_minor": 0
      },
      "method": "display_data"
     },
     "metadata": {},
     "output_type": "display_data"
    }
   ],
   "source": [
    "SELECT * FROM Paciente;"
   ]
  },
  {
   "cell_type": "markdown",
   "metadata": {},
   "source": [
    "---"
   ]
  },
  {
   "cell_type": "code",
   "execution_count": 4,
   "metadata": {},
   "outputs": [
    {
     "data": {
      "application/vnd.jupyter.widget-view+json": {
       "model_id": "0780287f-6111-4d5e-b086-993def5e6e87",
       "version_major": 2,
       "version_minor": 0
      },
      "method": "display_data"
     },
     "metadata": {},
     "output_type": "display_data"
    }
   ],
   "source": [
    "SELECT * FROM Sintoma;"
   ]
  },
  {
   "cell_type": "markdown",
   "metadata": {},
   "source": [
    "---"
   ]
  },
  {
   "cell_type": "code",
   "execution_count": 5,
   "metadata": {},
   "outputs": [
    {
     "data": {
      "application/vnd.jupyter.widget-view+json": {
       "model_id": "0d4c5728-7d88-462d-8c6b-951769098048",
       "version_major": 2,
       "version_minor": 0
      },
      "method": "display_data"
     },
     "metadata": {},
     "output_type": "display_data"
    }
   ],
   "source": [
    "SELECT * FROM ECG;"
   ]
  },
  {
   "cell_type": "markdown",
   "metadata": {},
   "source": [
    "---"
   ]
  },
  {
   "cell_type": "markdown",
   "metadata": {},
   "source": [
    "#### Dentre  uma escala de 0 a 4 a partir do atributo \"diagnostico\" temos : ####\n",
    "\n",
    "    0 : Saudável\n",
    "    1 à 4 : Não saudável \n",
    "    \n",
    "    \n",
    "    \n",
    "    As proximas duas Queries indicarão o numero de paciêntes saudáveis e não saudáveis respectivamente."
   ]
  },
  {
   "cell_type": "code",
   "execution_count": 6,
   "metadata": {},
   "outputs": [
    {
     "data": {
      "text/plain": [
       "164"
      ]
     },
     "execution_count": 6,
     "metadata": {},
     "output_type": "execute_result"
    }
   ],
   "source": [
    "SELECT COUNT(*) FROM Paciente P, Diagnostico D WHERE D.diagnostico = 0 AND D.id_paciente = P.id;"
   ]
  },
  {
   "cell_type": "markdown",
   "metadata": {},
   "source": [
    "---"
   ]
  },
  {
   "cell_type": "code",
   "execution_count": 7,
   "metadata": {},
   "outputs": [
    {
     "data": {
      "text/plain": [
       "139"
      ]
     },
     "execution_count": 7,
     "metadata": {},
     "output_type": "execute_result"
    }
   ],
   "source": [
    "SELECT COUNT(*) FROM Paciente P, Diagnostico D WHERE D.diagnostico > 0 AND D.id_paciente = P.id;"
   ]
  },
  {
   "cell_type": "markdown",
   "metadata": {},
   "source": [
    "---"
   ]
  },
  {
   "cell_type": "markdown",
   "metadata": {},
   "source": [
    " Utilizamos a função Round para arredondar o numero, com a consulta sendo o primeiro parametro passado para a função."
   ]
  },
  {
   "cell_type": "markdown",
   "metadata": {},
   "source": [
    "A seguinte query calculará a média das pressões arteriais de paciêntes em repouso.\n"
   ]
  },
  {
   "cell_type": "code",
   "execution_count": 8,
   "metadata": {},
   "outputs": [
    {
     "data": {
      "text/plain": [
       "131.69"
      ]
     },
     "execution_count": 8,
     "metadata": {},
     "output_type": "execute_result"
    }
   ],
   "source": [
    "select round(AVG(Triagem.pressao_repouso),2) from Triagem"
   ]
  },
  {
   "cell_type": "markdown",
   "metadata": {},
   "source": [
    "---"
   ]
  },
  {
   "cell_type": "markdown",
   "metadata": {},
   "source": [
    " Essa Query relaciona o numero de pessoas que estão em quadro não saudável e que tem a pressão em repouso maior que a média."
   ]
  },
  {
   "cell_type": "code",
   "execution_count": 9,
   "metadata": {},
   "outputs": [
    {
     "data": {
      "text/plain": [
       "68"
      ]
     },
     "execution_count": 9,
     "metadata": {},
     "output_type": "execute_result"
    }
   ],
   "source": [
    "SELECT COUNT(*)\n",
    "FROM Diagnostico D, Paciente P, Triagem T\n",
    "WHERE (D.diagnostico > 0 AND D.id_paciente = P.id) AND (T.id_paciente = P.id AND T.pressao_repouso > (SELECT AVG(Triagem.pressao_repouso) FROM Triagem));"
   ]
  },
  {
   "cell_type": "markdown",
   "metadata": {},
   "source": [
    "---\n",
    "\n",
    "Análise em função da pressão de repouso agora acima de 120.0"
   ]
  },
  {
   "cell_type": "code",
   "execution_count": 10,
   "metadata": {},
   "outputs": [
    {
     "data": {
      "text/plain": [
       "102"
      ]
     },
     "execution_count": 10,
     "metadata": {},
     "output_type": "execute_result"
    }
   ],
   "source": [
    "SELECT COUNT(*)\n",
    "FROM Diagnostico D, Paciente P, Triagem T\n",
    "WHERE (D.diagnostico > 0 AND D.id_paciente = P.id) AND (T.id_paciente = P.id AND T.pressao_repouso > 120.0);"
   ]
  },
  {
   "cell_type": "markdown",
   "metadata": {},
   "source": [
    "---\n",
    "Análise da média dos resultados do exame de colesterol."
   ]
  },
  {
   "cell_type": "code",
   "execution_count": 11,
   "metadata": {},
   "outputs": [
    {
     "data": {
      "text/plain": [
       "246.69"
      ]
     },
     "execution_count": 11,
     "metadata": {},
     "output_type": "execute_result"
    }
   ],
   "source": [
    "select round(AVG(Triagem.colesterol),2) from Triagem\n"
   ]
  },
  {
   "cell_type": "markdown",
   "metadata": {},
   "source": [
    "---\n",
    "\n",
    " Essa Query relaciona o numero de pessoas que estão em quadro não saudável e que tem o resultado do exame de colesterol acima da média.\n",
    " "
   ]
  },
  {
   "cell_type": "code",
   "execution_count": 12,
   "metadata": {},
   "outputs": [
    {
     "data": {
      "text/plain": [
       "74"
      ]
     },
     "execution_count": 12,
     "metadata": {},
     "output_type": "execute_result"
    }
   ],
   "source": [
    "SELECT COUNT(*)\n",
    "FROM Diagnostico D, Paciente P, Triagem T\n",
    "WHERE (D.diagnostico > 0 AND D.id_paciente = P.id) AND (T.id_paciente = P.id AND T.colesterol > (SELECT AVG(Triagem.colesterol) FROM Triagem));"
   ]
  },
  {
   "cell_type": "markdown",
   "metadata": {},
   "source": [
    "---\n",
    "\n",
    "Análise em função do resultado do exame de colesterol agora acima de 190.0"
   ]
  },
  {
   "cell_type": "code",
   "execution_count": 13,
   "metadata": {},
   "outputs": [
    {
     "data": {
      "text/plain": [
       "123"
      ]
     },
     "execution_count": 13,
     "metadata": {},
     "output_type": "execute_result"
    }
   ],
   "source": [
    "SELECT COUNT(*)\n",
    "FROM Diagnostico D, Paciente P, Triagem T\n",
    "WHERE (D.diagnostico > 0 AND D.id_paciente = P.id) AND (T.id_paciente = P.id AND T.colesterol > 190.0);"
   ]
  },
  {
   "cell_type": "markdown",
   "metadata": {},
   "source": [
    "---\n",
    "\n",
    "\n",
    " Essa Query relaciona o numero de pessoas que estão em quadro saudável e não saudavel e que tem o resultado de glicose = 1\n",
    " "
   ]
  },
  {
   "cell_type": "code",
   "execution_count": 26,
   "metadata": {},
   "outputs": [
    {
     "data": {
      "application/vnd.jupyter.widget-view+json": {
       "model_id": "4e4ee451-8516-4413-8dc2-de61244e89c9",
       "version_major": 2,
       "version_minor": 0
      },
      "method": "display_data"
     },
     "metadata": {},
     "output_type": "display_data"
    },
    {
     "data": {
      "application/vnd.jupyter.widget-view+json": {
       "model_id": "876af96c-c0ca-452b-9081-4dd2b07108dc",
       "version_major": 2,
       "version_minor": 0
      },
      "method": "display_data"
     },
     "metadata": {},
     "output_type": "display_data"
    }
   ],
   "source": [
    "SELECT COUNT(*)\n",
    "FROM Diagnostico D, Paciente P, Triagem T\n",
    "WHERE (D.diagnostico = 0 AND D.id_paciente = P.id) AND (T.id_paciente = P.id AND T.glicose = 1);\n",
    "\n",
    "SELECT COUNT(*)\n",
    "FROM Diagnostico D, Paciente P, Triagem T\n",
    "WHERE (D.diagnostico > 0 AND D.id_paciente = P.id) AND (T.id_paciente = P.id AND T.glicose = 1);"
   ]
  },
  {
   "cell_type": "markdown",
   "metadata": {},
   "source": [
    "---\n",
    "\n",
    "\n",
    " Essa Query relaciona o numero de pessoas que estão em quadro saudável e não saudavel e que tem o resultado de glicose = 0\n",
    " "
   ]
  },
  {
   "cell_type": "code",
   "execution_count": 27,
   "metadata": {},
   "outputs": [
    {
     "data": {
      "application/vnd.jupyter.widget-view+json": {
       "model_id": "fe209f35-5cd7-46de-a865-97e618003267",
       "version_major": 2,
       "version_minor": 0
      },
      "method": "display_data"
     },
     "metadata": {},
     "output_type": "display_data"
    },
    {
     "data": {
      "application/vnd.jupyter.widget-view+json": {
       "model_id": "64fa05cf-7968-451f-a894-87a1e5b8d8db",
       "version_major": 2,
       "version_minor": 0
      },
      "method": "display_data"
     },
     "metadata": {},
     "output_type": "display_data"
    }
   ],
   "source": [
    "SELECT COUNT(*)\n",
    "FROM Diagnostico D, Paciente P, Triagem T\n",
    "WHERE (D.diagnostico = 0 AND D.id_paciente = P.id) AND (T.id_paciente = P.id AND T.glicose = 0);\n",
    "\n",
    "SELECT COUNT(*)\n",
    "FROM Diagnostico D, Paciente P, Triagem T\n",
    "WHERE (D.diagnostico > 0 AND D.id_paciente = P.id) AND (T.id_paciente = P.id AND T.glicose = 0);"
   ]
  },
  {
   "cell_type": "markdown",
   "metadata": {},
   "source": [
    "---\n",
    "\n",
    "Análise da média dos resultados do batimento máximo obtido no exame ECG."
   ]
  },
  {
   "cell_type": "code",
   "execution_count": 16,
   "metadata": {},
   "outputs": [
    {
     "data": {
      "text/plain": [
       "149.61"
      ]
     },
     "execution_count": 16,
     "metadata": {},
     "output_type": "execute_result"
    }
   ],
   "source": [
    "select round(AVG(batimento_max),2) from ECG;"
   ]
  },
  {
   "cell_type": "markdown",
   "metadata": {},
   "source": [
    "---\n",
    "\n",
    "\n",
    "Essa Query relaciona o numero de pessoas que estão em quadro não saudável e que tem o resultado do batimento cardiaco máximo acima da média."
   ]
  },
  {
   "cell_type": "code",
   "execution_count": 17,
   "metadata": {},
   "outputs": [
    {
     "data": {
      "text/plain": [
       "50"
      ]
     },
     "execution_count": 17,
     "metadata": {},
     "output_type": "execute_result"
    }
   ],
   "source": [
    "SELECT COUNT(*)\n",
    "FROM Diagnostico D, Paciente P, ECG E\n",
    "WHERE (D.diagnostico > 0 AND D.id_paciente = P.id) AND (E.id_paciente = P.id AND E.batimento_max > (SELECT AVG(batimento_max) FROM ECG));"
   ]
  },
  {
   "cell_type": "markdown",
   "metadata": {},
   "source": [
    "---\n",
    "\n",
    "Essa Query relaciona o numero de pessoas que estão em quadro não saudável e que tem o resultado do exame de batimento cardiaco máximo acima de 170bpm.\n",
    "\n"
   ]
  },
  {
   "cell_type": "code",
   "execution_count": 18,
   "metadata": {},
   "outputs": [
    {
     "data": {
      "text/plain": [
       "48"
      ]
     },
     "execution_count": 18,
     "metadata": {},
     "output_type": "execute_result"
    }
   ],
   "source": [
    "SELECT COUNT(*)\n",
    "FROM Diagnostico D, Paciente P, ECG E\n",
    "WHERE (D.diagnostico = 0 AND D.id_paciente = P.id) AND (E.id_paciente = P.id AND E.batimento_max > 170);"
   ]
  },
  {
   "cell_type": "markdown",
   "metadata": {},
   "source": [
    "---\n",
    "\n",
    "Essa Query relaciona o numero de pessoas que estão em quadro não saudável e que tem o resultado do exame de ECG em repouso sendo possivel como resultado 0 , 1 e 2.\n",
    "\n",
    "A descrição do estado \"2\" é descrita abaixo.\n",
    "\"showing probable or definite left ventricular hypertrophy by Estes' criteria \""
   ]
  },
  {
   "cell_type": "code",
   "execution_count": 19,
   "metadata": {},
   "outputs": [
    {
     "data": {
      "text/plain": [
       "80"
      ]
     },
     "execution_count": 19,
     "metadata": {},
     "output_type": "execute_result"
    }
   ],
   "source": [
    "SELECT COUNT(*)\n",
    "FROM Diagnostico D, Paciente P, ECG E\n",
    "WHERE (D.diagnostico > 0 AND D.id_paciente = P.id) AND (E.id_paciente = P.id AND E.resultado = 2);"
   ]
  },
  {
   "cell_type": "markdown",
   "metadata": {},
   "source": [
    "---\n",
    "\n",
    "Análise da média dos resultados de exames onde há depressões em exames TP durante o ECG."
   ]
  },
  {
   "cell_type": "code",
   "execution_count": 20,
   "metadata": {},
   "outputs": [
    {
     "data": {
      "text/plain": [
       "1.04"
      ]
     },
     "execution_count": 20,
     "metadata": {},
     "output_type": "execute_result"
    }
   ],
   "source": [
    "\n",
    "select round(AVG(depressao_st),2) from ECG;"
   ]
  },
  {
   "cell_type": "markdown",
   "metadata": {},
   "source": [
    "---\n",
    "\n",
    "Essa Query relaciona o numero de pessoas que estão em quadro saudável e o restulado onde há depressões **abaixo da média** no exame durante o ECG."
   ]
  },
  {
   "cell_type": "code",
   "execution_count": 21,
   "metadata": {},
   "outputs": [
    {
     "data": {
      "text/plain": [
       "123"
      ]
     },
     "execution_count": 21,
     "metadata": {},
     "output_type": "execute_result"
    }
   ],
   "source": [
    "SELECT COUNT(*)\n",
    "FROM Diagnostico D, Paciente P, ECG E\n",
    "WHERE (D.diagnostico = 0 AND D.id_paciente = P.id) AND (E.id_paciente = P.id AND E.depressao_st < (SELECT AVG(depressao_st) FROM ECG));"
   ]
  },
  {
   "cell_type": "markdown",
   "metadata": {},
   "source": [
    "---\n",
    "\n",
    "Essa Query relaciona o numero de pessoas que estão em quadro não saudável e o restulado onde há depressões **acima da média** no exame durante o ECG."
   ]
  },
  {
   "cell_type": "code",
   "execution_count": 22,
   "metadata": {},
   "outputs": [
    {
     "data": {
      "text/plain": [
       "82"
      ]
     },
     "execution_count": 22,
     "metadata": {},
     "output_type": "execute_result"
    }
   ],
   "source": [
    "SELECT COUNT(*)\n",
    "FROM Diagnostico D, Paciente P, ECG E\n",
    "WHERE (D.diagnostico > 0 AND D.id_paciente = P.id) AND (E.id_paciente = P.id AND E.depressao_st > (SELECT AVG(depressao_st) FROM ECG));"
   ]
  },
  {
   "cell_type": "markdown",
   "metadata": {},
   "source": [
    "---\n",
    "\n",
    "\n",
    "Essa Query relaciona o numero de pessoas que estão em quadro não saudável e o restulado onde há depressões **acima de 3** no exame durante o ECG."
   ]
  },
  {
   "cell_type": "code",
   "execution_count": 25,
   "metadata": {},
   "outputs": [
    {
     "data": {
      "application/vnd.jupyter.widget-view+json": {
       "model_id": "ad95f282-f4a2-4944-9dfe-700ad3d0dd3d",
       "version_major": 2,
       "version_minor": 0
      },
      "method": "display_data"
     },
     "metadata": {},
     "output_type": "display_data"
    },
    {
     "data": {
      "application/vnd.jupyter.widget-view+json": {
       "model_id": "080ce64d-31e6-4e04-b221-2e7ffb180f1d",
       "version_major": 2,
       "version_minor": 0
      },
      "method": "display_data"
     },
     "metadata": {},
     "output_type": "display_data"
    }
   ],
   "source": [
    "SELECT COUNT(*)\n",
    "FROM Diagnostico D, Paciente P, ECG E\n",
    "WHERE (D.diagnostico = 0 AND D.id_paciente = P.id) AND (E.id_paciente = P.id AND E.depressao_st > 3);\n",
    "\n",
    "SELECT COUNT(*)\n",
    "FROM Diagnostico D, Paciente P, ECG E\n",
    "WHERE (D.diagnostico > 0 AND D.id_paciente = P.id) AND (E.id_paciente = P.id AND E.depressao_st > 3);"
   ]
  },
  {
   "cell_type": "markdown",
   "metadata": {},
   "source": [
    "---\n",
    "Essa Query relaciona o numero de pessoas que estão em quadro não saudável e o restulado onde há depressões **abaixo de 0.6** no exame durante o ECG."
   ]
  },
  {
   "cell_type": "code",
   "execution_count": 24,
   "metadata": {},
   "outputs": [
    {
     "data": {
      "application/vnd.jupyter.widget-view+json": {
       "model_id": "eec8c2e1-2e01-4bf0-a4ba-693a64748bb9",
       "version_major": 2,
       "version_minor": 0
      },
      "method": "display_data"
     },
     "metadata": {},
     "output_type": "display_data"
    },
    {
     "data": {
      "application/vnd.jupyter.widget-view+json": {
       "model_id": "39c6d314-56d3-401e-b5af-2e948eac3089",
       "version_major": 2,
       "version_minor": 0
      },
      "method": "display_data"
     },
     "metadata": {},
     "output_type": "display_data"
    }
   ],
   "source": [
    "SELECT COUNT(*)\n",
    "FROM Diagnostico D, Paciente P, ECG E\n",
    "WHERE (D.diagnostico = 0 AND D.id_paciente = P.id) AND (E.id_paciente = P.id AND E.depressao_st < 0.6);\n",
    "\n",
    "SELECT COUNT(*)\n",
    "FROM Diagnostico D, Paciente P, ECG E\n",
    "WHERE (D.diagnostico > 0 AND D.id_paciente = P.id) AND (E.id_paciente = P.id AND E.depressao_st < 0.6);\n",
    "\n"
   ]
  },
  {
   "cell_type": "markdown",
   "metadata": {},
   "source": [
    "---\n",
    "Essa Query relaciona o numero de pessoas que estão em quadro saudavel e não saudável e o restulado onde não há vasos coloridos pela Fluoroscopia."
   ]
  },
  {
   "cell_type": "code",
   "execution_count": 28,
   "metadata": {},
   "outputs": [
    {
     "data": {
      "application/vnd.jupyter.widget-view+json": {
       "model_id": "08a1f0f6-b19b-4356-8c0a-f9d9883e8e9a",
       "version_major": 2,
       "version_minor": 0
      },
      "method": "display_data"
     },
     "metadata": {},
     "output_type": "display_data"
    },
    {
     "data": {
      "application/vnd.jupyter.widget-view+json": {
       "model_id": "c4c55e7e-3487-41ee-b244-31eaf5c3d35e",
       "version_major": 2,
       "version_minor": 0
      },
      "method": "display_data"
     },
     "metadata": {},
     "output_type": "display_data"
    }
   ],
   "source": [
    "SELECT COUNT(*)\n",
    "FROM Diagnostico D, Paciente P, ECG E\n",
    "WHERE (D.diagnostico = 0 AND D.id_paciente = P.id) AND (E.id_paciente = P.id AND E.numero_vasos = 0);\n",
    "\n",
    "SELECT COUNT(*)\n",
    "FROM Diagnostico D, Paciente P, ECG E\n",
    "WHERE (D.diagnostico > 0 AND D.id_paciente = P.id) AND (E.id_paciente = P.id AND E.numero_vasos = 0);\n",
    "\n"
   ]
  },
  {
   "cell_type": "markdown",
   "metadata": {},
   "source": [
    "---\n",
    "Essa Query relaciona o numero de pessoas que estão em quadro saudavel e não saudável e o restulado onde há mais de 2 vasos coloridos pela Fluoroscopia."
   ]
  },
  {
   "cell_type": "code",
   "execution_count": 29,
   "metadata": {},
   "outputs": [
    {
     "data": {
      "application/vnd.jupyter.widget-view+json": {
       "model_id": "fc8cb467-4a67-414f-ad76-02a6cbd16d6b",
       "version_major": 2,
       "version_minor": 0
      },
      "method": "display_data"
     },
     "metadata": {},
     "output_type": "display_data"
    },
    {
     "data": {
      "application/vnd.jupyter.widget-view+json": {
       "model_id": "68cc10bf-4a1b-4976-83fb-459eb94b47ca",
       "version_major": 2,
       "version_minor": 0
      },
      "method": "display_data"
     },
     "metadata": {},
     "output_type": "display_data"
    }
   ],
   "source": [
    "SELECT COUNT(*)\n",
    "FROM Diagnostico D, Paciente P, ECG E\n",
    "WHERE (D.diagnostico = 0 AND D.id_paciente = P.id) AND (E.id_paciente = P.id AND E.numero_vasos >= 2);\n",
    "\n",
    "SELECT COUNT(*)\n",
    "FROM Diagnostico D, Paciente P, ECG E\n",
    "WHERE (D.diagnostico > 0 AND D.id_paciente = P.id) AND (E.id_paciente = P.id AND E.numero_vasos >= 2);\n",
    "\n"
   ]
  }
 ],
 "metadata": {
  "kernelspec": {
   "display_name": "SQL",
   "language": "SQL",
   "name": "sql"
  },
  "language_info": {
   "codemirror_mode": "sql",
   "file_extension": ".sql",
   "mimetype": "",
   "name": "SQL",
   "nbconverter_exporter": "",
   "version": ""
  }
 },
 "nbformat": 4,
 "nbformat_minor": 2
}
