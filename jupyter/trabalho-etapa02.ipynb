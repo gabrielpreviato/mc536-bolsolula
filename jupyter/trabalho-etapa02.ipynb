{
 "cells": [
  {
   "cell_type": "code",
   "execution_count": 1,
   "metadata": {},
   "outputs": [],
   "source": [
    "%defaultDatasource jdbc:h2:mem:db"
   ]
  },
  {
   "cell_type": "markdown",
   "metadata": {},
   "source": [
    "# Modelo Conceitual.\n",
    "**Adicionar Imagem**\n",
    "\n",
    "\n",
    "\n"
   ]
  },
  {
   "cell_type": "markdown",
   "metadata": {},
   "source": [
    "# Modelo Lógico.\n",
    "**Adicionar Imagem**\n",
    "\n",
    "\n",
    "\n",
    "Paciente(_id_, idade, sexo, eh_fumante [B], hist_diabetes[B], hist_doenca_arterial[B])\n",
    "Primary Key: id\n",
    "\n",
    "Sintoma(_id_paciente_, local_dor[str], provocada_por_esforço[B], melhorou_com_descanso[B], tipo_dor_toracica[str])\n",
    "Primary Key: id_paciente\n",
    "Foreigner Key: id_paciente\n",
    "\n",
    "ECG(_id_paciente_, resultado, protocolo_exercicio, duracao_exercicio, batimento_max, pico_pressao)\n",
    "Primary Key: id_paciente\n",
    "Foreigner Key: id_paciente\n",
    "\n",
    "Triagem(_id_paciente_, pressao_repouso, colesterol, glicose)\n",
    "Primary Key: id_paciente\n",
    "Foreigner Key: id_paciente\n",
    "\n",
    "Diagnostico(_id_paciente_, status_angiografico, vaso_atingido)\n",
    "Primary Key: id_paciente\n",
    "Foreigner Key: id_paciente"
   ]
  },
  {
   "cell_type": "code",
   "execution_count": 2,
   "metadata": {},
   "outputs": [],
   "source": [
    "--Task List:\n",
    "\n",
    "\n",
    "--Paciente(_id_, idade, sexo, eh_fumante [B], hist_diabetes[B], hist_doenca_arterial[B])\n",
    "--Primary Key: id\n",
    "\n",
    "\n",
    "DROP TABLE IF EXISTS Paciente;\n",
    "DROP TABLE IF EXISTS Sintoma;\n",
    "DROP TABLE IF EXISTS ECG;\n",
    "DROP TABLE IF EXISTS Triagem;\n",
    "DROP TABLE IF EXISTS Diagnostico;\n",
    "\n",
    "CREATE TABLE Paciente (\n",
    "id VARCHAR(36),\n",
    "idade FLOAT,\n",
    "genero FLOAT, \n",
    "PRIMARY KEY(id)\n",
    ") AS SELECT\n",
    "    uid,\n",
    "    idade,\n",
    "    genero\n",
    "FROM CSVREAD('cleveland_id.csv');\n",
    "\n",
    "\n",
    "--Sintoma(_id_paciente_, local_dor[str], provocada_por_esforço[B], melhorou_com_descanso[B], tipo_dor_toracica[str])\n",
    "--Primary Key: id_paciente\n",
    "--Foreigner Key: id_paciente\n",
    "\n",
    "CREATE TABLE Sintoma (\n",
    "id_paciente VARCHAR(36),\n",
    "tipo_dor_toracica FLOAT,\n",
    "-- local_dor VARCHAR(100),\n",
    "-- provocada_por_esforço INTEGER,   \n",
    "-- melhorou_com_descanso VARCHAR(100),\n",
    "-- tipo_dor_toracica VARCHAR(100),  \n",
    "PRIMARY KEY(id_paciente),\n",
    "FOREIGN KEY(id_paciente)\n",
    "    REFERENCES Paciente(id)\n",
    "      ON DELETE NO ACTION\n",
    "      ON UPDATE NO ACTION    \n",
    ") AS SELECT\n",
    "    uid,\n",
    "    tipo_dor_toracica\n",
    "FROM CSVREAD('cleveland_id.csv');\n",
    "\n",
    "\n",
    "--ECG(_id_paciente_, resultado, protocolo_exercicio, duracao_exercicio, batimento_max, pico_pressao)\n",
    "--Primary Key: id_paciente\n",
    "--Foreigner Key: id_paciente\n",
    "    \n",
    "CREATE TABLE ECG (\n",
    "id_paciente VARCHAR(36),\n",
    "resultado FLOAT,\n",
    "batimento_max FLOAT,\n",
    "induziu_angina FLOAT,\n",
    "depressao_st FLOAT,\n",
    "declive_st FLOAT,\n",
    "numero_vasos FLOAT,\n",
    "thal FLOAT,\n",
    "PRIMARY KEY(id_paciente),\n",
    "FOREIGN KEY(id_paciente)\n",
    "    REFERENCES Paciente(id)\n",
    "      ON DELETE NO ACTION\n",
    "      ON UPDATE NO ACTION  \n",
    "\n",
    ") AS SELECT\n",
    "    uid,\n",
    "    resultado,\n",
    "    batimento_max,\n",
    "    induziu_angina,\n",
    "    depressao_st,\n",
    "    declive_st,\n",
    "    numero_vasos,\n",
    "    thal\n",
    "FROM CSVREAD('cleveland_id.csv');\n",
    "\n",
    "\n",
    "--Triagem(_id_paciente_, pressao_repouso, colesterol, glicose)\n",
    "--Primary Key: id_paciente\n",
    "--Foreigner Key: id_paciente\n",
    "\n",
    "\n",
    "CREATE TABLE Triagem (\n",
    "id_paciente VARCHAR(36),\n",
    "pressao_repouso FLOAT,\n",
    "colesterol FLOAT,\n",
    "glicose FLOAT,\n",
    "PRIMARY KEY(id_paciente),\n",
    "FOREIGN KEY(id_paciente)\n",
    "REFERENCES Paciente(id)\n",
    "      ON DELETE NO ACTION\n",
    "      ON UPDATE NO ACTION  \n",
    "\n",
    ") AS SELECT\n",
    "    uid,\n",
    "    pressao_repouso,\n",
    "    colesterol,\n",
    "    glicose\n",
    "FROM CSVREAD('cleveland_id.csv');\n",
    "\n",
    "--Diagnostico(_id_paciente_, status_angiografico, vaso_atingido)\n",
    "--Primary Key: id_paciente\n",
    "--Foreigner Key: id_paciente\n",
    "\n",
    "\n",
    "CREATE TABLE Diagnostico (\n",
    "id_paciente VARCHAR(36),\n",
    "diagnostico FLOAT,\n",
    "PRIMARY KEY(id_paciente),\n",
    "FOREIGN KEY(id_paciente)\n",
    "REFERENCES Paciente(id)\n",
    "      ON DELETE NO ACTION\n",
    "      ON UPDATE NO ACTION  \n",
    "\n",
    ") AS SELECT\n",
    "    uid,\n",
    "    diagnostico\n",
    "FROM CSVREAD('cleveland_id.csv');\n"
   ]
  },
  {
   "cell_type": "code",
   "execution_count": 4,
   "metadata": {},
   "outputs": [
    {
     "data": {
      "application/vnd.jupyter.widget-view+json": {
       "model_id": "03fecdc7-326d-4371-b101-6ee870545060",
       "version_major": 2,
       "version_minor": 0
      },
      "method": "display_data"
     },
     "metadata": {},
     "output_type": "display_data"
    }
   ],
   "source": [
    "SELECT * FROM Paciente;"
   ]
  },
  {
   "cell_type": "code",
   "execution_count": 5,
   "metadata": {},
   "outputs": [
    {
     "data": {
      "application/vnd.jupyter.widget-view+json": {
       "model_id": "07d2ca8e-586c-4717-a6ed-024d318f7a55",
       "version_major": 2,
       "version_minor": 0
      },
      "method": "display_data"
     },
     "metadata": {},
     "output_type": "display_data"
    }
   ],
   "source": [
    "SELECT * FROM Sintoma;"
   ]
  },
  {
   "cell_type": "code",
   "execution_count": 6,
   "metadata": {},
   "outputs": [
    {
     "data": {
      "application/vnd.jupyter.widget-view+json": {
       "model_id": "9634b688-530d-4170-8d4c-ae5fa020066f",
       "version_major": 2,
       "version_minor": 0
      },
      "method": "display_data"
     },
     "metadata": {},
     "output_type": "display_data"
    }
   ],
   "source": [
    "SELECT * FROM ECG;"
   ]
  },
  {
   "cell_type": "code",
   "execution_count": 42,
   "metadata": {},
   "outputs": [
    {
     "data": {
      "text/plain": [
       "164"
      ]
     },
     "execution_count": 42,
     "metadata": {},
     "output_type": "execute_result"
    }
   ],
   "source": [
    "SELECT COUNT(*) FROM Paciente P, Diagnostico D WHERE D.diagnostico = 0 AND D.id_paciente = P.id;"
   ]
  },
  {
   "cell_type": "code",
   "execution_count": 3,
   "metadata": {},
   "outputs": [
    {
     "data": {
      "text/plain": [
       "139"
      ]
     },
     "execution_count": 3,
     "metadata": {},
     "output_type": "execute_result"
    }
   ],
   "source": [
    "SELECT COUNT(*) FROM Paciente P, Diagnostico D WHERE D.diagnostico > 0 AND D.id_paciente = P.id;"
   ]
  },
  {
   "cell_type": "code",
   "execution_count": 27,
   "metadata": {},
   "outputs": [
    {
     "data": {
      "text/plain": [
       "131.68976897689768"
      ]
     },
     "execution_count": 27,
     "metadata": {},
     "output_type": "execute_result"
    }
   ],
   "source": [
    "SELECT AVG(Triagem.pressao_repouso) FROM Triagem"
   ]
  },
  {
   "cell_type": "code",
   "execution_count": 25,
   "metadata": {},
   "outputs": [
    {
     "data": {
      "text/plain": [
       "68"
      ]
     },
     "execution_count": 25,
     "metadata": {},
     "output_type": "execute_result"
    }
   ],
   "source": [
    "SELECT COUNT(*)\n",
    "FROM Diagnostico D, Paciente P, Triagem T\n",
    "WHERE (D.diagnostico > 0 AND D.id_paciente = P.id) AND (T.id_paciente = P.id AND T.pressao_repouso > (SELECT AVG(Triagem.pressao_repouso) FROM Triagem));"
   ]
  },
  {
   "cell_type": "code",
   "execution_count": 26,
   "metadata": {},
   "outputs": [
    {
     "data": {
      "text/plain": [
       "102"
      ]
     },
     "execution_count": 26,
     "metadata": {},
     "output_type": "execute_result"
    }
   ],
   "source": [
    "SELECT COUNT(*)\n",
    "FROM Diagnostico D, Paciente P, Triagem T\n",
    "WHERE (D.diagnostico > 0 AND D.id_paciente = P.id) AND (T.id_paciente = P.id AND T.pressao_repouso > 120.0);"
   ]
  },
  {
   "cell_type": "code",
   "execution_count": 28,
   "metadata": {},
   "outputs": [
    {
     "data": {
      "text/plain": [
       "246.69306930693068"
      ]
     },
     "execution_count": 28,
     "metadata": {},
     "output_type": "execute_result"
    }
   ],
   "source": [
    "SELECT AVG(Triagem.colesterol) FROM Triagem"
   ]
  },
  {
   "cell_type": "code",
   "execution_count": 29,
   "metadata": {},
   "outputs": [
    {
     "data": {
      "text/plain": [
       "74"
      ]
     },
     "execution_count": 29,
     "metadata": {},
     "output_type": "execute_result"
    }
   ],
   "source": [
    "SELECT COUNT(*)\n",
    "FROM Diagnostico D, Paciente P, Triagem T\n",
    "WHERE (D.diagnostico > 0 AND D.id_paciente = P.id) AND (T.id_paciente = P.id AND T.colesterol > (SELECT AVG(Triagem.colesterol) FROM Triagem));"
   ]
  },
  {
   "cell_type": "code",
   "execution_count": 30,
   "metadata": {},
   "outputs": [
    {
     "data": {
      "text/plain": [
       "123"
      ]
     },
     "execution_count": 30,
     "metadata": {},
     "output_type": "execute_result"
    }
   ],
   "source": [
    "SELECT COUNT(*)\n",
    "FROM Diagnostico D, Paciente P, Triagem T\n",
    "WHERE (D.diagnostico > 0 AND D.id_paciente = P.id) AND (T.id_paciente = P.id AND T.colesterol > 190.0);"
   ]
  },
  {
   "cell_type": "code",
   "execution_count": 32,
   "metadata": {},
   "outputs": [
    {
     "data": {
      "text/plain": [
       "0.1485148514851485"
      ]
     },
     "execution_count": 32,
     "metadata": {},
     "output_type": "execute_result"
    }
   ],
   "source": [
    "SELECT AVG(Triagem.glicose) FROM Triagem"
   ]
  },
  {
   "cell_type": "code",
   "execution_count": 41,
   "metadata": {},
   "outputs": [
    {
     "data": {
      "text/plain": [
       "23"
      ]
     },
     "execution_count": 41,
     "metadata": {},
     "output_type": "execute_result"
    }
   ],
   "source": [
    "SELECT COUNT(*)\n",
    "FROM Diagnostico D, Paciente P, Triagem T\n",
    "WHERE (D.diagnostico = 0 AND D.id_paciente = P.id) AND (T.id_paciente = P.id AND T.glicose = 1);"
   ]
  },
  {
   "cell_type": "code",
   "execution_count": 43,
   "metadata": {},
   "outputs": [
    {
     "data": {
      "text/plain": [
       "149.6072607260726"
      ]
     },
     "execution_count": 43,
     "metadata": {},
     "output_type": "execute_result"
    }
   ],
   "source": [
    "SELECT AVG(batimento_max) FROM ECG"
   ]
  },
  {
   "cell_type": "code",
   "execution_count": 45,
   "metadata": {},
   "outputs": [
    {
     "data": {
      "text/plain": [
       "50"
      ]
     },
     "execution_count": 45,
     "metadata": {},
     "output_type": "execute_result"
    }
   ],
   "source": [
    "SELECT COUNT(*)\n",
    "FROM Diagnostico D, Paciente P, ECG E\n",
    "WHERE (D.diagnostico > 0 AND D.id_paciente = P.id) AND (E.id_paciente = P.id AND E.batimento_max > (SELECT AVG(batimento_max) FROM ECG));"
   ]
  },
  {
   "cell_type": "code",
   "execution_count": 52,
   "metadata": {},
   "outputs": [
    {
     "data": {
      "text/plain": [
       "138"
      ]
     },
     "execution_count": 52,
     "metadata": {},
     "output_type": "execute_result"
    }
   ],
   "source": [
    "SELECT COUNT(*)\n",
    "FROM Diagnostico D, Paciente P, ECG E\n",
    "WHERE (D.diagnostico = 0 AND D.id_paciente = P.id) AND (E.id_paciente = P.id AND E.batimento_max > 140);"
   ]
  },
  {
   "cell_type": "code",
   "execution_count": 57,
   "metadata": {},
   "outputs": [
    {
     "data": {
      "text/plain": [
       "80"
      ]
     },
     "execution_count": 57,
     "metadata": {},
     "output_type": "execute_result"
    }
   ],
   "source": [
    "SELECT COUNT(*)\n",
    "FROM Diagnostico D, Paciente P, ECG E\n",
    "WHERE (D.diagnostico > 0 AND D.id_paciente = P.id) AND (E.id_paciente = P.id AND E.resultado = 2);"
   ]
  },
  {
   "cell_type": "code",
   "execution_count": 58,
   "metadata": {},
   "outputs": [
    {
     "data": {
      "text/plain": [
       "1.0396039603960396"
      ]
     },
     "execution_count": 58,
     "metadata": {},
     "output_type": "execute_result"
    }
   ],
   "source": [
    "SELECT AVG(depressao_st) FROM ECG"
   ]
  },
  {
   "cell_type": "code",
   "execution_count": 60,
   "metadata": {},
   "outputs": [
    {
     "data": {
      "text/plain": [
       "41"
      ]
     },
     "execution_count": 60,
     "metadata": {},
     "output_type": "execute_result"
    }
   ],
   "source": [
    "SELECT COUNT(*)\n",
    "FROM Diagnostico D, Paciente P, ECG E\n",
    "WHERE (D.diagnostico = 0 AND D.id_paciente = P.id) AND (E.id_paciente = P.id AND E.depressao_st > (SELECT AVG(depressao_st) FROM ECG));"
   ]
  },
  {
   "cell_type": "code",
   "execution_count": 61,
   "metadata": {},
   "outputs": [
    {
     "data": {
      "text/plain": [
       "82"
      ]
     },
     "execution_count": 61,
     "metadata": {},
     "output_type": "execute_result"
    }
   ],
   "source": [
    "SELECT COUNT(*)\n",
    "FROM Diagnostico D, Paciente P, ECG E\n",
    "WHERE (D.diagnostico > 0 AND D.id_paciente = P.id) AND (E.id_paciente = P.id AND E.depressao_st > (SELECT AVG(depressao_st) FROM ECG));"
   ]
  }
 ],
 "metadata": {
  "kernelspec": {
   "display_name": "SQL",
   "language": "SQL",
   "name": "sql"
  },
  "language_info": {
   "codemirror_mode": "sql",
   "file_extension": ".sql",
   "mimetype": "",
   "name": "SQL",
   "nbconverter_exporter": "",
   "version": ""
  }
 },
 "nbformat": 4,
 "nbformat_minor": 2
}
